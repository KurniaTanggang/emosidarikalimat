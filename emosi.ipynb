{
  "nbformat": 4,
  "nbformat_minor": 0,
  "metadata": {
    "colab": {
      "provenance": [],
      "authorship_tag": "ABX9TyMtNbJbCBFvyDuE0c9yO7lJ",
      "include_colab_link": true
    },
    "kernelspec": {
      "name": "python3",
      "display_name": "Python 3"
    },
    "language_info": {
      "name": "python"
    }
  },
  "cells": [
    {
      "cell_type": "markdown",
      "metadata": {
        "id": "view-in-github",
        "colab_type": "text"
      },
      "source": [
        "<a href=\"https://colab.research.google.com/github/KurniaTanggang/emosidarikalimat/blob/main/emosi.ipynb\" target=\"_parent\"><img src=\"https://colab.research.google.com/assets/colab-badge.svg\" alt=\"Open In Colab\"/></a>"
      ]
    },
    {
      "cell_type": "markdown",
      "metadata": {
        "id": "03DZVaveOjee"
      },
      "source": [
        "Menentukan emosi berdasarkan kalimat.  \n",
        "Dataset : https://www.kaggle.com/ishantjuyal/emotions-in-text"
      ]
    },
    {
      "cell_type": "code",
      "metadata": {
        "id": "TM5Q4xl0O2j_"
      },
      "source": [
        "import pandas as pd\n",
        "df = pd.read_csv('Emotion_final.csv')"
      ],
      "execution_count": null,
      "outputs": []
    },
    {
      "cell_type": "code",
      "metadata": {
        "colab": {
          "base_uri": "https://localhost:8080/",
          "height": 408
        },
        "id": "ijWL6pm6Pwzc",
        "outputId": "273ebf55-0e87-4752-8e0c-5977237aea8d"
      },
      "source": [
        "category = pd.get_dummies(df.Emotion)\n",
        "df_baru = pd.concat([df, category], axis=1)\n",
        "df_baru = df_baru.drop(columns='Emotion')\n",
        "df_baru"
      ],
      "execution_count": null,
      "outputs": [
        {
          "output_type": "execute_result",
          "data": {
            "text/html": [
              "<div>\n",
              "<style scoped>\n",
              "    .dataframe tbody tr th:only-of-type {\n",
              "        vertical-align: middle;\n",
              "    }\n",
              "\n",
              "    .dataframe tbody tr th {\n",
              "        vertical-align: top;\n",
              "    }\n",
              "\n",
              "    .dataframe thead th {\n",
              "        text-align: right;\n",
              "    }\n",
              "</style>\n",
              "<table border=\"1\" class=\"dataframe\">\n",
              "  <thead>\n",
              "    <tr style=\"text-align: right;\">\n",
              "      <th></th>\n",
              "      <th>Text</th>\n",
              "      <th>anger</th>\n",
              "      <th>fear</th>\n",
              "      <th>happy</th>\n",
              "      <th>love</th>\n",
              "      <th>sadness</th>\n",
              "      <th>surprise</th>\n",
              "    </tr>\n",
              "  </thead>\n",
              "  <tbody>\n",
              "    <tr>\n",
              "      <th>0</th>\n",
              "      <td>i didnt feel humiliated</td>\n",
              "      <td>0</td>\n",
              "      <td>0</td>\n",
              "      <td>0</td>\n",
              "      <td>0</td>\n",
              "      <td>1</td>\n",
              "      <td>0</td>\n",
              "    </tr>\n",
              "    <tr>\n",
              "      <th>1</th>\n",
              "      <td>i can go from feeling so hopeless to so damned...</td>\n",
              "      <td>0</td>\n",
              "      <td>0</td>\n",
              "      <td>0</td>\n",
              "      <td>0</td>\n",
              "      <td>1</td>\n",
              "      <td>0</td>\n",
              "    </tr>\n",
              "    <tr>\n",
              "      <th>2</th>\n",
              "      <td>im grabbing a minute to post i feel greedy wrong</td>\n",
              "      <td>1</td>\n",
              "      <td>0</td>\n",
              "      <td>0</td>\n",
              "      <td>0</td>\n",
              "      <td>0</td>\n",
              "      <td>0</td>\n",
              "    </tr>\n",
              "    <tr>\n",
              "      <th>3</th>\n",
              "      <td>i am ever feeling nostalgic about the fireplac...</td>\n",
              "      <td>0</td>\n",
              "      <td>0</td>\n",
              "      <td>0</td>\n",
              "      <td>1</td>\n",
              "      <td>0</td>\n",
              "      <td>0</td>\n",
              "    </tr>\n",
              "    <tr>\n",
              "      <th>4</th>\n",
              "      <td>i am feeling grouchy</td>\n",
              "      <td>1</td>\n",
              "      <td>0</td>\n",
              "      <td>0</td>\n",
              "      <td>0</td>\n",
              "      <td>0</td>\n",
              "      <td>0</td>\n",
              "    </tr>\n",
              "    <tr>\n",
              "      <th>...</th>\n",
              "      <td>...</td>\n",
              "      <td>...</td>\n",
              "      <td>...</td>\n",
              "      <td>...</td>\n",
              "      <td>...</td>\n",
              "      <td>...</td>\n",
              "      <td>...</td>\n",
              "    </tr>\n",
              "    <tr>\n",
              "      <th>21454</th>\n",
              "      <td>Melissa stared at her friend in dism</td>\n",
              "      <td>0</td>\n",
              "      <td>1</td>\n",
              "      <td>0</td>\n",
              "      <td>0</td>\n",
              "      <td>0</td>\n",
              "      <td>0</td>\n",
              "    </tr>\n",
              "    <tr>\n",
              "      <th>21455</th>\n",
              "      <td>Successive state elections have seen the gover...</td>\n",
              "      <td>0</td>\n",
              "      <td>1</td>\n",
              "      <td>0</td>\n",
              "      <td>0</td>\n",
              "      <td>0</td>\n",
              "      <td>0</td>\n",
              "    </tr>\n",
              "    <tr>\n",
              "      <th>21456</th>\n",
              "      <td>Vincent was irritated but not dismay</td>\n",
              "      <td>0</td>\n",
              "      <td>1</td>\n",
              "      <td>0</td>\n",
              "      <td>0</td>\n",
              "      <td>0</td>\n",
              "      <td>0</td>\n",
              "    </tr>\n",
              "    <tr>\n",
              "      <th>21457</th>\n",
              "      <td>Kendall-Hume turned back to face the dismayed ...</td>\n",
              "      <td>0</td>\n",
              "      <td>1</td>\n",
              "      <td>0</td>\n",
              "      <td>0</td>\n",
              "      <td>0</td>\n",
              "      <td>0</td>\n",
              "    </tr>\n",
              "    <tr>\n",
              "      <th>21458</th>\n",
              "      <td>I am dismayed , but not surpris</td>\n",
              "      <td>0</td>\n",
              "      <td>1</td>\n",
              "      <td>0</td>\n",
              "      <td>0</td>\n",
              "      <td>0</td>\n",
              "      <td>0</td>\n",
              "    </tr>\n",
              "  </tbody>\n",
              "</table>\n",
              "<p>21459 rows × 7 columns</p>\n",
              "</div>"
            ],
            "text/plain": [
              "                                                    Text  ...  surprise\n",
              "0                                i didnt feel humiliated  ...         0\n",
              "1      i can go from feeling so hopeless to so damned...  ...         0\n",
              "2       im grabbing a minute to post i feel greedy wrong  ...         0\n",
              "3      i am ever feeling nostalgic about the fireplac...  ...         0\n",
              "4                                   i am feeling grouchy  ...         0\n",
              "...                                                  ...  ...       ...\n",
              "21454               Melissa stared at her friend in dism  ...         0\n",
              "21455  Successive state elections have seen the gover...  ...         0\n",
              "21456               Vincent was irritated but not dismay  ...         0\n",
              "21457  Kendall-Hume turned back to face the dismayed ...  ...         0\n",
              "21458                    I am dismayed , but not surpris  ...         0\n",
              "\n",
              "[21459 rows x 7 columns]"
            ]
          },
          "metadata": {},
          "execution_count": 2
        }
      ]
    },
    {
      "cell_type": "code",
      "metadata": {
        "id": "T9ae1sXzTlBN"
      },
      "source": [
        "# mengubah dataframe ke numpy array\n",
        "teks = df_baru['Text'].values\n",
        "label = df_baru[['anger', 'fear', 'happy', 'love', 'sadness', 'surprise']].values"
      ],
      "execution_count": null,
      "outputs": []
    },
    {
      "cell_type": "code",
      "metadata": {
        "id": "Tfsw8cOxUSxy"
      },
      "source": [
        "# data testing 20%\n",
        "from sklearn.model_selection import train_test_split\n",
        "teks_latih, teks_test, label_latih, label_test = train_test_split(teks, label, test_size=0.2)"
      ],
      "execution_count": null,
      "outputs": []
    },
    {
      "cell_type": "code",
      "metadata": {
        "id": "cRZBi1z_Umc2"
      },
      "source": [
        "# tokenisasi\n",
        "from tensorflow.keras.preprocessing.text import Tokenizer\n",
        "from tensorflow.keras.preprocessing.sequence import pad_sequences\n",
        " \n",
        "tokenizer = Tokenizer(num_words=5000, oov_token='*')\n",
        "tokenizer.fit_on_texts(teks_latih) \n",
        "tokenizer.fit_on_texts(teks_test)\n",
        " \n",
        "sekuens_latih = tokenizer.texts_to_sequences(teks_latih)\n",
        "sekuens_test = tokenizer.texts_to_sequences(teks_test)\n",
        " \n",
        "padded_latih = pad_sequences(sekuens_latih) \n",
        "padded_test = pad_sequences(sekuens_test)"
      ],
      "execution_count": null,
      "outputs": []
    },
    {
      "cell_type": "code",
      "metadata": {
        "id": "w_IV6dysWLUm"
      },
      "source": [
        "# membangun model\n",
        "import tensorflow as tf\n",
        "model = tf.keras.Sequential([\n",
        "    tf.keras.layers.Embedding(input_dim=5000, output_dim=16),\n",
        "    tf.keras.layers.LSTM(64),\n",
        "    tf.keras.layers.Dense(128, activation='relu'),\n",
        "    tf.keras.layers.Dense(64, activation='relu'),\n",
        "    tf.keras.layers.Dense(6, activation='softmax')\n",
        "])\n",
        "model.compile(loss='categorical_crossentropy',optimizer='adam',metrics=['accuracy'])"
      ],
      "execution_count": null,
      "outputs": []
    },
    {
      "cell_type": "code",
      "metadata": {
        "id": "FH9f-KTPXHJ5"
      },
      "source": [
        "class myCallback(tf.keras.callbacks.Callback):\n",
        "  def on_epoch_end(self, epoch, logs={}):\n",
        "    if(logs.get('accuracy')>0.9 and logs.get('val_accuracy')>0.9):\n",
        "      print(\"\\nAkurasi telah mencapai target\")\n",
        "      self.model.stop_training = True\n",
        "callbacks = myCallback()"
      ],
      "execution_count": null,
      "outputs": []
    },
    {
      "cell_type": "code",
      "metadata": {
        "colab": {
          "base_uri": "https://localhost:8080/"
        },
        "id": "aF5ITMCQWike",
        "outputId": "7ee241f8-1403-4ed6-8a1c-f75983e04ccd"
      },
      "source": [
        "history = model.fit(padded_latih, \n",
        "          label_latih, \n",
        "          epochs=50, \n",
        "          validation_data=(padded_test, label_test), \n",
        "          verbose=2,\n",
        "          callbacks=[callbacks])"
      ],
      "execution_count": null,
      "outputs": [
        {
          "output_type": "stream",
          "name": "stdout",
          "text": [
            "Epoch 1/50\n",
            "537/537 - 23s - loss: 1.3943 - accuracy: 0.3896 - val_loss: 1.1455 - val_accuracy: 0.4697\n",
            "Epoch 2/50\n",
            "537/537 - 20s - loss: 0.7528 - accuracy: 0.7165 - val_loss: 0.5915 - val_accuracy: 0.7999\n",
            "Epoch 3/50\n",
            "537/537 - 21s - loss: 0.3819 - accuracy: 0.8680 - val_loss: 0.4599 - val_accuracy: 0.8425\n",
            "Epoch 4/50\n",
            "537/537 - 20s - loss: 0.2494 - accuracy: 0.9130 - val_loss: 0.3906 - val_accuracy: 0.8660\n",
            "Epoch 5/50\n",
            "537/537 - 20s - loss: 0.1878 - accuracy: 0.9341 - val_loss: 0.3870 - val_accuracy: 0.8830\n",
            "Epoch 6/50\n",
            "537/537 - 21s - loss: 0.1429 - accuracy: 0.9502 - val_loss: 0.3737 - val_accuracy: 0.8896\n",
            "Epoch 7/50\n",
            "537/537 - 20s - loss: 0.1091 - accuracy: 0.9605 - val_loss: 0.3751 - val_accuracy: 0.8872\n",
            "Epoch 8/50\n",
            "537/537 - 20s - loss: 0.0962 - accuracy: 0.9662 - val_loss: 0.3479 - val_accuracy: 0.8947\n",
            "Epoch 9/50\n",
            "537/537 - 22s - loss: 0.0726 - accuracy: 0.9737 - val_loss: 0.4216 - val_accuracy: 0.8949\n",
            "Epoch 10/50\n",
            "537/537 - 21s - loss: 0.0671 - accuracy: 0.9763 - val_loss: 0.4712 - val_accuracy: 0.8877\n",
            "Epoch 11/50\n",
            "537/537 - 22s - loss: 0.0644 - accuracy: 0.9779 - val_loss: 0.4171 - val_accuracy: 0.8977\n",
            "Epoch 12/50\n",
            "537/537 - 21s - loss: 0.0467 - accuracy: 0.9822 - val_loss: 0.4393 - val_accuracy: 0.8968\n",
            "Epoch 13/50\n",
            "537/537 - 21s - loss: 0.0431 - accuracy: 0.9849 - val_loss: 0.4526 - val_accuracy: 0.8926\n",
            "Epoch 14/50\n",
            "537/537 - 21s - loss: 0.0375 - accuracy: 0.9870 - val_loss: 0.4765 - val_accuracy: 0.8924\n",
            "Epoch 15/50\n",
            "537/537 - 20s - loss: 0.0464 - accuracy: 0.9847 - val_loss: 0.4957 - val_accuracy: 0.8991\n",
            "Epoch 16/50\n",
            "537/537 - 20s - loss: 0.0334 - accuracy: 0.9885 - val_loss: 0.4821 - val_accuracy: 0.8956\n",
            "Epoch 17/50\n",
            "537/537 - 21s - loss: 0.0278 - accuracy: 0.9911 - val_loss: 0.4736 - val_accuracy: 0.9000\n",
            "\n",
            "Akurasi telah mencapai target\n"
          ]
        }
      ]
    },
    {
      "cell_type": "code",
      "metadata": {
        "colab": {
          "base_uri": "https://localhost:8080/",
          "height": 295
        },
        "id": "kI52QOLqg0XT",
        "outputId": "ee7dd30b-34bd-466a-f077-6dcc742d5213"
      },
      "source": [
        "import matplotlib.pyplot as plt\n",
        "\n",
        "# plot akurasi\n",
        "plt.plot(history.history['accuracy'])\n",
        "plt.plot(history.history['val_accuracy'])\n",
        "plt.title('Akurasi Model')\n",
        "plt.ylabel('accuracy')\n",
        "plt.xlabel('epoch')\n",
        "plt.legend(['train', 'test'], loc='upper left')\n",
        "plt.show()"
      ],
      "execution_count": null,
      "outputs": [
        {
          "output_type": "display_data",
          "data": {
            "image/png": "[encoded data removed]",
            "text/plain": [
              "<Figure size 432x288 with 1 Axes>"
            ]
          },
          "metadata": {
            "needs_background": "light"
          }
        }
      ]
    },
    {
      "cell_type": "code",
      "metadata": {
        "colab": {
          "base_uri": "https://localhost:8080/",
          "height": 295
        },
        "id": "Cr8h8klphed_",
        "outputId": "3243c216-d383-49c3-990a-fedb83e463f2"
      },
      "source": [
        "# plot loss\n",
        "plt.plot(history.history['loss'])\n",
        "plt.plot(history.history['val_loss'])\n",
        "plt.title('Loss Model')\n",
        "plt.ylabel('loss')\n",
        "plt.xlabel('epoch')\n",
        "plt.legend(['train', 'test'], loc='upper left')\n",
        "plt.show()"
      ],
      "execution_count": null,
      "outputs": [
        {
          "output_type": "display_data",
          "data": {
            "image/png": "[encoded data removed]",
            "text/plain": [
              "<Figure size 432x288 with 1 Axes>"
            ]
          },
          "metadata": {
            "needs_background": "light"
          }
        }
      ]
    }
  ]
}